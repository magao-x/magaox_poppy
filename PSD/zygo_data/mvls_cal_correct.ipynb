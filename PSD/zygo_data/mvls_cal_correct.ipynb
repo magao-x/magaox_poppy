{
 "cells": [
  {
   "cell_type": "code",
   "execution_count": 15,
   "metadata": {},
   "outputs": [
    {
     "data": {
      "text/html": [
       "<style>.container { width:100% !important; }</style>"
      ],
      "text/plain": [
       "<IPython.core.display.HTML object>"
      ]
     },
     "metadata": {},
     "output_type": "display_data"
    },
    {
     "name": "stdout",
     "output_type": "stream",
     "text": [
      "Last date this notebook has been ran: 20/09/2021 18:35:18\n"
     ]
    }
   ],
   "source": [
    "%reload_ext autoreload\n",
    "%autoreload 2\n",
    "%matplotlib inline\n",
    "#load modules\n",
    "import numpy as np\n",
    "np.set_printoptions(suppress=True) # scientific notation gets annoying\n",
    "import matplotlib.pyplot as plt\n",
    "import matplotlib\n",
    "from astropy import units as u\n",
    "from astropy.io import fits\n",
    "from mpl_toolkits.axes_grid1 import make_axes_locatable\n",
    "import scipy.ndimage\n",
    "import random\n",
    "\n",
    "# PSD code\n",
    "import h5py\n",
    "import copy\n",
    "import os\n",
    "\n",
    "# import personal code\n",
    "from model_kit import psd_functions as psd\n",
    "from model_kit import datafiles as dfx\n",
    "from model_kit import mvls\n",
    "\n",
    "from IPython.core.display import display, HTML\n",
    "display(HTML(\"<style>.container { width:100% !important; }</style>\"))\n",
    "\n",
    "from datetime import datetime\n",
    "date_ran = datetime.now()\n",
    "dr_str = date_ran.strftime(\"%d/%m/%Y %H:%M:%S\")\n",
    "print('Last date this notebook has been ran: {0}'.format(dr_str))"
   ]
  },
  {
   "cell_type": "code",
   "execution_count": 10,
   "metadata": {},
   "outputs": [],
   "source": [
    "def mvls_cal(surf_var, psd, dk):\n",
    "    psd_raw = psd*(dk**2) # resets the psd\n",
    "    psd_norm = psd_raw/(np.sum(psd_raw)*(dk**2))\n",
    "    psd_cal = psd_norm * surf_var\n",
    "    return psd_cal\n",
    "\n",
    "def cal_loop(file_dir, surf_name, surf_unit, mask_name, \n",
    "             psd_dir, psd_name, psd_unit):\n",
    "    # open up the data\n",
    "    opt_fits = fits.open(file_dir+surf_name)[0]\n",
    "    opt_data = (opt_fits.data * surf_unit).to(u.nm)\n",
    "    dx = opt_fits.header['LATRES']*u.m # not sure if needed\n",
    "    \n",
    "    # open the mask\n",
    "    opt_mask = fits.open(file_dir+mask_name)[0].data\n",
    "    \n",
    "    # calculate the surface variance\n",
    "    surf_var = np.var(opt_data[opt_mask==1]) # should have opt_data.unit**2\n",
    "    \n",
    "    # open the PSD\n",
    "    psd_fits = fits.open(psd_dir+psd_name+'.fits')[0]\n",
    "    psd_data = psd_fits.data * psd_unit\n",
    "    psd_hdr = psd_fits.header\n",
    "    dk = psd_hdr['delta_k'] / u.m\n",
    "    \n",
    "    # apply psd calibration\n",
    "    psd_cal = mvls_cal(surf_var=surf_var, psd=psd_data, dk=dk)\n",
    "    \n",
    "    # calculate some quick values\n",
    "    kmin = dk\n",
    "    kmax = int(psd_cal.shape[0]/2)*dk\n",
    "    psd_rms = psd.do_psd_rms(psd_data=psd_cal, delta_k=dk,\n",
    "                             k_tgt_lim=(kmin*0.5, kmax))\n",
    "    # scale down kmin by 0.5 because \n",
    "    print('surf_rms={0:.3f}, psd_rms={1:.3f}'.format(np.sqrt(surf_var), psd_rms))\n",
    "    # add in header content\n",
    "    psd_hdr['surf_var'] = (surf_var.value, \n",
    "                           'Surface variance [{0}]'.format(surf_var.unit))\n",
    "    psd_hdr['kmin'] = (kmin.value,\n",
    "                       'Minimum spatial frequency limit [{0}]'.format(kmin.unit))\n",
    "    psd_hdr['kmax'] = (kmax.value,\n",
    "                       'Maximum spatial frequency limit [{0}]'.format(kmax.unit))\n",
    "    psd_hdr['psd_rms'] = (psd_rms.value,\n",
    "                       'RMS calculated from PSD [{0}]'.format(psd_rms.unit))\n",
    "    \n",
    "    # save the data\n",
    "    fits.writeto(psd_dir+psd_name+'_cal.fits', psd_cal.value,\n",
    "                 psd_hdr, overwrite=True)"
   ]
  },
  {
   "cell_type": "code",
   "execution_count": 11,
   "metadata": {},
   "outputs": [
    {
     "name": "stdout",
     "output_type": "stream",
     "text": [
      "surf_rms=2.988 nm, psd_rms=2.670 nm\n",
      "surf_rms=3.379 nm, psd_rms=3.015 nm\n",
      "surf_rms=2.973 nm, psd_rms=2.659 nm\n",
      "surf_rms=2.789 nm, psd_rms=2.500 nm\n",
      "PSD calibrated for n1\n",
      "surf_rms=3.097 nm, psd_rms=2.772 nm\n",
      "surf_rms=3.165 nm, psd_rms=2.830 nm\n",
      "surf_rms=2.922 nm, psd_rms=2.614 nm\n",
      "surf_rms=2.935 nm, psd_rms=2.629 nm\n",
      "PSD calibrated for n2\n",
      "surf_rms=3.390 nm, psd_rms=3.029 nm\n",
      "surf_rms=3.518 nm, psd_rms=3.142 nm\n",
      "surf_rms=3.238 nm, psd_rms=2.895 nm\n",
      "surf_rms=3.287 nm, psd_rms=2.941 nm\n",
      "PSD calibrated for n3\n",
      "surf_rms=2.482 nm, psd_rms=2.215 nm\n",
      "surf_rms=2.704 nm, psd_rms=2.415 nm\n",
      "surf_rms=2.508 nm, psd_rms=2.245 nm\n",
      "surf_rms=2.554 nm, psd_rms=2.285 nm\n",
      "PSD calibrated for n4\n",
      "surf_rms=2.522 nm, psd_rms=2.256 nm\n",
      "surf_rms=2.645 nm, psd_rms=2.364 nm\n",
      "surf_rms=2.623 nm, psd_rms=2.351 nm\n",
      "surf_rms=2.630 nm, psd_rms=2.357 nm\n",
      "PSD calibrated for n5\n",
      "surf_rms=2.856 nm, psd_rms=2.556 nm\n",
      "surf_rms=3.329 nm, psd_rms=2.976 nm\n",
      "surf_rms=3.334 nm, psd_rms=2.982 nm\n",
      "surf_rms=3.102 nm, psd_rms=2.778 nm\n",
      "PSD calibrated for n6\n",
      "surf_rms=2.133 nm, psd_rms=1.899 nm\n",
      "surf_rms=2.513 nm, psd_rms=2.236 nm\n",
      "surf_rms=2.084 nm, psd_rms=1.858 nm\n",
      "surf_rms=1.981 nm, psd_rms=1.766 nm\n",
      "PSD calibrated for n7\n",
      "surf_rms=3.201 nm, psd_rms=2.857 nm\n",
      "surf_rms=3.116 nm, psd_rms=2.786 nm\n",
      "surf_rms=2.922 nm, psd_rms=2.610 nm\n",
      "surf_rms=2.809 nm, psd_rms=2.517 nm\n",
      "PSD calibrated for n8\n"
     ]
    }
   ],
   "source": [
    "# 1-inch flats, unglued\n",
    "file_dir = 'flat_mirrors/fixed_fits/'\n",
    "psd_folder = 'flat_mirrors/mvls_psd/'\n",
    "tot_fm = 8\n",
    "tot_step = 4\n",
    "nt = 3\n",
    "flat_label = '1in'\n",
    "\n",
    "for nfm in range(0, tot_fm):\n",
    "    for nstep in range(0, tot_step):\n",
    "        surf_name = 'flat_{0}_n{1}_80CA_step{2}_z{3}_surf.fits'.format(flat_label,\n",
    "                                                                       nfm+1, nstep, nt)\n",
    "        surf_unit = u.micron\n",
    "        mask_name = 'flat_{0}_n{1}_80CA_step{2}_bigdust_mask.fits'.format(flat_label,\n",
    "                                                                          nfm+1, nstep)\n",
    "        psd_name = 'lspsd_fm_{0}_n{1}_step{2}_z{3}'.format(flat_label, nfm+1, nstep, nt)\n",
    "        psd_unit = (u.nm*u.m)**2\n",
    "        cal_loop(file_dir=file_dir, surf_name=surf_name, surf_unit=surf_unit, \n",
    "                 mask_name=mask_name, psd_dir=psd_folder, psd_name=psd_name, \n",
    "                 psd_unit=psd_unit)\n",
    "    print('PSD calibrated for n{0}'.format(nfm+1))"
   ]
  },
  {
   "cell_type": "code",
   "execution_count": 12,
   "metadata": {},
   "outputs": [
    {
     "name": "stdout",
     "output_type": "stream",
     "text": [
      "surf_rms=2.530 nm, psd_rms=2.300 nm\n",
      "surf_rms=2.964 nm, psd_rms=2.689 nm\n",
      "surf_rms=2.573 nm, psd_rms=2.341 nm\n",
      "surf_rms=1.896 nm, psd_rms=1.727 nm\n",
      "PSD calibrated for n1\n",
      "surf_rms=4.035 nm, psd_rms=3.644 nm\n",
      "surf_rms=4.108 nm, psd_rms=3.697 nm\n",
      "surf_rms=4.248 nm, psd_rms=3.839 nm\n",
      "surf_rms=4.339 nm, psd_rms=3.917 nm\n",
      "PSD calibrated for n2\n",
      "surf_rms=1.255 nm, psd_rms=1.249 nm\n",
      "surf_rms=1.656 nm, psd_rms=1.521 nm\n",
      "surf_rms=1.361 nm, psd_rms=1.360 nm\n",
      "surf_rms=1.346 nm, psd_rms=1.341 nm\n",
      "PSD calibrated for n3\n",
      "surf_rms=4.947 nm, psd_rms=4.376 nm\n",
      "surf_rms=4.702 nm, psd_rms=4.173 nm\n",
      "surf_rms=5.583 nm, psd_rms=4.951 nm\n",
      "surf_rms=4.802 nm, psd_rms=4.254 nm\n",
      "PSD calibrated for n4\n",
      "surf_rms=4.560 nm, psd_rms=3.966 nm\n",
      "surf_rms=4.621 nm, psd_rms=4.024 nm\n",
      "surf_rms=4.590 nm, psd_rms=3.992 nm\n",
      "surf_rms=4.840 nm, psd_rms=4.214 nm\n",
      "PSD calibrated for n5\n",
      "surf_rms=3.174 nm, psd_rms=2.819 nm\n",
      "surf_rms=2.900 nm, psd_rms=2.705 nm\n",
      "surf_rms=3.854 nm, psd_rms=3.438 nm\n",
      "surf_rms=2.969 nm, psd_rms=2.635 nm\n",
      "PSD calibrated for n6\n",
      "surf_rms=1.100 nm, psd_rms=1.098 nm\n",
      "surf_rms=1.761 nm, psd_rms=1.645 nm\n",
      "surf_rms=2.057 nm, psd_rms=1.893 nm\n",
      "surf_rms=2.290 nm, psd_rms=2.098 nm\n",
      "PSD calibrated for n7\n",
      "surf_rms=1.657 nm, psd_rms=1.535 nm\n",
      "surf_rms=1.239 nm, psd_rms=1.236 nm\n",
      "surf_rms=1.059 nm, psd_rms=1.036 nm\n",
      "surf_rms=1.101 nm, psd_rms=1.099 nm\n",
      "PSD calibrated for n8\n"
     ]
    }
   ],
   "source": [
    "# 2-inch flats, unglued\n",
    "file_dir = 'flat_mirrors/fixed_fits/'\n",
    "psd_folder = 'flat_mirrors/mvls_psd/'\n",
    "tot_fm = 8\n",
    "tot_step = 4\n",
    "nt = 3\n",
    "flat_label = '2in'\n",
    "\n",
    "for nfm in range(0, tot_fm):\n",
    "    for nstep in range(0, tot_step):\n",
    "        surf_name = 'flat_{0}_n{1}_80CA_step{2}_z{3}_surf.fits'.format(flat_label,\n",
    "                                                                       nfm+1, nstep, nt)\n",
    "        surf_unit = u.micron\n",
    "        mask_name = 'flat_{0}_n{1}_80CA_step{2}_bigdust_mask.fits'.format(flat_label,\n",
    "                                                                          nfm+1, nstep)\n",
    "        psd_name = 'lspsd_fm_{0}_n{1}_step{2}_z{3}'.format(flat_label, nfm+1, nstep, nt)\n",
    "        psd_unit = (u.nm*u.m)**2\n",
    "        cal_loop(file_dir=file_dir, surf_name=surf_name, surf_unit=surf_unit, \n",
    "                 mask_name=mask_name, psd_dir=psd_folder, psd_name=psd_name, \n",
    "                 psd_unit=psd_unit)\n",
    "    print('PSD calibrated for n{0}'.format(nfm+1))"
   ]
  },
  {
   "cell_type": "code",
   "execution_count": 13,
   "metadata": {},
   "outputs": [
    {
     "name": "stdout",
     "output_type": "stream",
     "text": [
      "surf_rms=19.883 nm, psd_rms=18.219 nm\n",
      "surf_rms=20.072 nm, psd_rms=18.378 nm\n",
      "surf_rms=19.736 nm, psd_rms=18.157 nm\n",
      "surf_rms=19.234 nm, psd_rms=17.652 nm\n",
      "PSD calibrated for n1\n"
     ]
    }
   ],
   "source": [
    "# 1-inch flats, glued\n",
    "file_dir = 'flat_mirrors/fixed_fits/'\n",
    "psd_folder = 'flat_mirrors/mvls_psd/'\n",
    "tot_fm = 1\n",
    "tot_step = 4\n",
    "flat_label = '1in'\n",
    "\n",
    "for nfm in range(0, tot_fm):\n",
    "    for nstep in range(0, tot_step):\n",
    "        surf_name = 'flat_{0}_n{1}_80CA_step{2}_glue_surf.fits'.format(flat_label,\n",
    "                                                                       nfm+1, nstep)\n",
    "        surf_unit = u.micron\n",
    "        mask_name = 'flat_{0}_n{1}_80CA_step{2}_bigdust_mask.fits'.format(flat_label,\n",
    "                                                                          nfm+1, nstep)\n",
    "        psd_name = 'lspsd_fm_{0}_n{1}_step{2}_glue'.format(flat_label, nfm+1, nstep)\n",
    "        psd_unit = (u.nm*u.m)**2\n",
    "        cal_loop(file_dir=file_dir, surf_name=surf_name, surf_unit=surf_unit, \n",
    "                 mask_name=mask_name, psd_dir=psd_folder, psd_name=psd_name, \n",
    "                 psd_unit=psd_unit)\n",
    "    print('PSD calibrated for n{0}'.format(nfm+1))"
   ]
  },
  {
   "cell_type": "code",
   "execution_count": 14,
   "metadata": {},
   "outputs": [
    {
     "name": "stdout",
     "output_type": "stream",
     "text": [
      "surf_rms=18.920 nm, psd_rms=17.713 nm\n",
      "surf_rms=18.471 nm, psd_rms=17.422 nm\n",
      "surf_rms=19.051 nm, psd_rms=17.795 nm\n",
      "surf_rms=18.728 nm, psd_rms=17.525 nm\n",
      "PSD calibrated for n1\n"
     ]
    }
   ],
   "source": [
    "# 0.5-inch flats, glued\n",
    "file_dir = 'flat_mirrors/fixed_fits/'\n",
    "psd_folder = 'flat_mirrors/mvls_psd/'\n",
    "tot_fm = 1\n",
    "tot_step = 4\n",
    "flat_label = '0p5in'\n",
    "\n",
    "for nfm in range(0, tot_fm):\n",
    "    for nstep in range(0, tot_step):\n",
    "        surf_name = 'flat_{0}_n{1}_80CA_step{2}_glue_surf.fits'.format(flat_label,\n",
    "                                                                       nfm+1, nstep)\n",
    "        surf_unit = u.micron\n",
    "        mask_name = 'flat_{0}_n{1}_80CA_step{2}_bigdust_mask.fits'.format(flat_label,\n",
    "                                                                          nfm+1, nstep)\n",
    "        psd_name = 'lspsd_fm_{0}_n{1}_step{2}_glue'.format(flat_label, nfm+1, nstep)\n",
    "        psd_unit = (u.nm*u.m)**2\n",
    "        cal_loop(file_dir=file_dir, surf_name=surf_name, surf_unit=surf_unit, \n",
    "                 mask_name=mask_name, psd_dir=psd_folder, psd_name=psd_name, \n",
    "                 psd_unit=psd_unit)\n",
    "    print('PSD calibrated for n{0}'.format(nfm+1))"
   ]
  }
 ],
 "metadata": {
  "kernelspec": {
   "display_name": "Python 3",
   "language": "python",
   "name": "python3"
  },
  "language_info": {
   "codemirror_mode": {
    "name": "ipython",
    "version": 3
   },
   "file_extension": ".py",
   "mimetype": "text/x-python",
   "name": "python",
   "nbconvert_exporter": "python",
   "pygments_lexer": "ipython3",
   "version": "3.7.4"
  }
 },
 "nbformat": 4,
 "nbformat_minor": 4
}
